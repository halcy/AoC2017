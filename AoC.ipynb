{
 "cells": [
  {
   "cell_type": "code",
   "execution_count": 1,
   "metadata": {
    "collapsed": true
   },
   "outputs": [],
   "source": [
    "import numpy as np"
   ]
  },
  {
   "cell_type": "code",
   "execution_count": 2,
   "metadata": {
    "collapsed": true
   },
   "outputs": [],
   "source": [
    "def read_input(filename):\n",
    "    with open(\"inputs/\" + filename, 'r') as f:\n",
    "        return(f.read())\n",
    "    \n",
    "day1 = read_input(\"day1.txt\")\n",
    "day2 = read_input(\"day2.txt\")\n",
    "day3 = read_input(\"day3.txt\")\n",
    "day4 = read_input(\"day4.txt\")\n",
    "day5 = read_input(\"day5.txt\")\n",
    "day6 = read_input(\"day6.txt\")"
   ]
  },
  {
   "cell_type": "code",
   "execution_count": 3,
   "metadata": {
    "collapsed": false
   },
   "outputs": [
    {
     "name": "stdout",
     "output_type": "stream",
     "text": [
      "1049\n",
      "1508\n"
     ]
    }
   ],
   "source": [
    "# Day 1 part 1\n",
    "print(sum(map(lambda x: int(day1[x]) if day1[x] == day1[(x+1) % len(day1)] else 0, range(len(day1)))))\n",
    "\n",
    "# Day 1 part 2\n",
    "print(sum(map(lambda x: int(day1[x]) if day1[x] == day1[(x+len(day1)//2) % len(day1)] else 0, range(len(day1)))))"
   ]
  },
  {
   "cell_type": "code",
   "execution_count": 4,
   "metadata": {
    "collapsed": false
   },
   "outputs": [
    {
     "name": "stdout",
     "output_type": "stream",
     "text": [
      "39126\n",
      "258\n"
     ]
    }
   ],
   "source": [
    "# Day 2 part 1\n",
    "checksum = 0\n",
    "for line in day2.split(\"\\n\"):\n",
    "    checksum += np.max(np.fromstring(line, dtype=np.int, sep=' '))\n",
    "    checksum -= np.min(np.fromstring(line, dtype=np.int, sep=' '))\n",
    "print(checksum)\n",
    "\n",
    "# Day 2 part 2\n",
    "even_sum = 0\n",
    "for line in day2.split(\"\\n\"):\n",
    "    line_nums = sorted(np.fromstring(line, dtype=np.int, sep=' '))\n",
    "    for index, denominator in enumerate(line_nums):\n",
    "        for numerator in line_nums[index + 1:]:\n",
    "            if numerator % denominator == 0:\n",
    "                even_sum += numerator / denominator\n",
    "                break # Could break out of the outer loop as well but w/e\n",
    "print(int(even_sum))"
   ]
  },
  {
   "cell_type": "code",
   "execution_count": 5,
   "metadata": {
    "collapsed": false
   },
   "outputs": [
    {
     "name": "stdout",
     "output_type": "stream",
     "text": [
      "419\n",
      "295229\n",
      "312453\n",
      "330785\n",
      "349975\n",
      "363010\n",
      "369601\n",
      "752688\n",
      "787032\n",
      "830037\n",
      "875851\n",
      "924406\n",
      "975079\n",
      "1009457\n",
      "1026827\n",
      "2089141\n",
      "2179400\n",
      "2292124\n",
      "2411813\n",
      "2539320\n",
      "2674100\n",
      "2814493\n",
      "2909666\n",
      "[[0 0 0 ..., 0 0 0]\n",
      " [0 0 0 ..., 0 0 0]\n",
      " [0 0 0 ..., 0 0 0]\n",
      " ..., \n",
      " [0 0 0 ..., 0 0 0]\n",
      " [0 0 0 ..., 0 0 0]\n",
      " [0 0 0 ..., 0 0 0]]\n"
     ]
    }
   ],
   "source": [
    "# Day 3 part 1\n",
    "\n",
    "# First, get in which ring of the spiral we are\n",
    "spiral_ring = 0\n",
    "spiral_start = 0\n",
    "temp = int(day3)\n",
    "while temp > 1:\n",
    "    spiral_start += (spiral_ring * 8)    \n",
    "    spiral_ring += 1\n",
    "    temp = temp - (spiral_ring * 8)\n",
    "    \n",
    "# Where are we within this ring?\n",
    "spiral_ring_pos = int(day3) - spiral_start - 2\n",
    "\n",
    "# Calculate x / y distance\n",
    "dist = abs((spiral_ring_pos % (spiral_ring * 2)) - spiral_ring + 1) + spiral_ring\n",
    "print(dist)\n",
    "\n",
    "# Day 3 part 2\n",
    "\n",
    "# Eh whatever bruteforce it\n",
    "c_x = 50\n",
    "c_y = 50\n",
    "spiral_grid = np.zeros((100, 100), dtype='int')\n",
    "spiral_grid[c_x, c_y] = 1\n",
    "step_cnt = 2\n",
    "for ring in range(1, 5):\n",
    "    ring_size = (ring * 8)\n",
    "    for y in range(ring * 2):\n",
    "        cur_y = c_y - y + ring - 1\n",
    "        cur_x = c_x + ring\n",
    "        spiral_grid[cur_y, cur_x] = int(np.sum(spiral_grid[cur_y-1:cur_y+2, cur_x-1:cur_x+2]))\n",
    "        if spiral_grid[cur_y, cur_x] > int(day3):\n",
    "            print(spiral_grid[cur_y, cur_x])\n",
    "        step_cnt += 1\n",
    "        \n",
    "    for x in range(ring * 2):\n",
    "        cur_y = c_y - ring\n",
    "        cur_x = c_x - x + ring - 1\n",
    "        spiral_grid[cur_y, cur_x] = int(np.sum(spiral_grid[cur_y-1:cur_y+2, cur_x-1:cur_x+2]))\n",
    "        if spiral_grid[cur_y, cur_x] > int(day3):\n",
    "            print(spiral_grid[cur_y, cur_x])        \n",
    "        step_cnt += 1\n",
    "        \n",
    "    for y in range(ring * 2):\n",
    "        cur_y = c_y + y - ring + 1\n",
    "        cur_x = c_x - ring\n",
    "        spiral_grid[cur_y, cur_x] = int(np.sum(spiral_grid[cur_y-1:cur_y+2, cur_x-1:cur_x+2]))\n",
    "        if spiral_grid[cur_y, cur_x] > int(day3):\n",
    "            print(spiral_grid[cur_y, cur_x])        \n",
    "        step_cnt += 1\n",
    "        \n",
    "    for x in range(ring * 2):\n",
    "        cur_y = c_y + ring\n",
    "        cur_x = c_x + x - ring +  1\n",
    "        spiral_grid[cur_y, cur_x] = int(np.sum(spiral_grid[cur_y-1:cur_y+2, cur_x-1:cur_x+2]))\n",
    "        if spiral_grid[cur_y, cur_x] > int(day3):\n",
    "            print(spiral_grid[cur_y, cur_x])\n",
    "        step_cnt += 1\n",
    "print(spiral_grid)"
   ]
  },
  {
   "cell_type": "code",
   "execution_count": 6,
   "metadata": {
    "collapsed": false
   },
   "outputs": [
    {
     "name": "stdout",
     "output_type": "stream",
     "text": [
      "325\n",
      "119\n"
     ]
    }
   ],
   "source": [
    "# Day 4 part 1\n",
    "valid_phrases = 0\n",
    "for line in day4.split(\"\\n\"):\n",
    "    if len(set(line.split(\" \"))) == len(line.split(\" \")):\n",
    "        valid_phrases += 1\n",
    "print(valid_phrases)\n",
    "\n",
    "# Day 4 part 2\n",
    "valid_phrases = 0\n",
    "for line in day4.split(\"\\n\"):\n",
    "    words = list(map(lambda x: \"\".join(sorted(x)), line.split(\" \")))\n",
    "    if len(set(words)) == len(words):\n",
    "        valid_phrases += 1\n",
    "print(valid_phrases)"
   ]
  },
  {
   "cell_type": "code",
   "execution_count": 7,
   "metadata": {
    "collapsed": false
   },
   "outputs": [
    {
     "name": "stdout",
     "output_type": "stream",
     "text": [
      "326618\n",
      "21841249\n"
     ]
    }
   ],
   "source": [
    "# Day 5 part 1\n",
    "jumplist = list(map(lambda x: int(x), day5.split(\"\\n\")))\n",
    "pc = 0\n",
    "steps = 0\n",
    "while pc >= 0 and pc < len(jumplist):\n",
    "    steps += 1\n",
    "    jumplist[pc] += 1\n",
    "    pc += jumplist[pc] - 1\n",
    "print(steps)\n",
    "\n",
    "# Day 5 part 2\n",
    "jumplist = list(map(lambda x: int(x), day5.split(\"\\n\")))\n",
    "pc = 0\n",
    "steps = 0\n",
    "while pc >= 0 and pc < len(jumplist):\n",
    "    steps += 1\n",
    "    offset = jumplist[pc]\n",
    "    if offset >= 3:\n",
    "        jumplist[pc] -= 1\n",
    "    else:\n",
    "        jumplist[pc] += 1\n",
    "    pc += offset\n",
    "print(steps)"
   ]
  },
  {
   "cell_type": "code",
   "execution_count": 8,
   "metadata": {
    "collapsed": false
   },
   "outputs": [
    {
     "name": "stdout",
     "output_type": "stream",
     "text": [
      "12841\n",
      "8038\n"
     ]
    }
   ],
   "source": [
    "# Day 6 part 1\n",
    "bank_state = list(map(lambda x: int(x), day6.split(\"\\t\")))\n",
    "bank_proto = set()\n",
    "steps = 0\n",
    "while \",\".join(map(lambda x: str(x), bank_state)) not in bank_proto:\n",
    "    steps += 1\n",
    "    bank_proto.add(\",\".join(map(lambda x: str(x), bank_state)))\n",
    "    spread_bank = np.argmax(bank_state)\n",
    "    spread_count = bank_state[spread_bank]\n",
    "    bank_state[spread_bank] = 0\n",
    "    for i in range(spread_count):\n",
    "        bank_state[(spread_bank + i + 1) % len(bank_state)] += 1\n",
    "print(steps)\n",
    "\n",
    "# Day 6 part 2\n",
    "bank_state = list(map(lambda x: int(x), day6.split(\"\\t\")))\n",
    "bank_proto = list()\n",
    "steps = 0\n",
    "while \",\".join(map(lambda x: str(x), bank_state)) not in bank_proto:\n",
    "    steps += 1\n",
    "    bank_proto.append(\",\".join(map(lambda x: str(x), bank_state)))\n",
    "    spread_bank = np.argmax(bank_state)\n",
    "    spread_count = bank_state[spread_bank]\n",
    "    bank_state[spread_bank] = 0\n",
    "    for i in range(spread_count):\n",
    "        bank_state[(spread_bank + i + 1) % len(bank_state)] += 1\n",
    "print(steps - bank_proto.index(\",\".join(map(lambda x: str(x), bank_state))))"
   ]
  },
  {
   "cell_type": "code",
   "execution_count": null,
   "metadata": {
    "collapsed": true
   },
   "outputs": [],
   "source": []
  }
 ],
 "metadata": {
  "kernelspec": {
   "display_name": "Python 3",
   "language": "python",
   "name": "python3"
  },
  "language_info": {
   "codemirror_mode": {
    "name": "ipython",
    "version": 3
   },
   "file_extension": ".py",
   "mimetype": "text/x-python",
   "name": "python",
   "nbconvert_exporter": "python",
   "pygments_lexer": "ipython3",
   "version": "3.5.2"
  },
  "widgets": {
   "state": {},
   "version": "1.1.2"
  }
 },
 "nbformat": 4,
 "nbformat_minor": 0
}
